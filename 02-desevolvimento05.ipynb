def obter_nome():
    nome = input("Digite seu nome completo: ")
    return nome

def obter_ano_nascimento():
    while True:
        ano = input("Digite seu ano de nascimento (entre 1922 e 2021): ")
        try:
            ano = int(ano)
            if 1922 <= ano <= 2021:
                return ano
            else:
                print("Erro: O ano deve estar entre 1922 e 2021.")
        except ValueError:
            print("Erro: Por favor, digite um número válido.")

def calcular_idade(ano_nascimento):
    ano_atual = 2022
    idade = ano_atual - ano_nascimento
    return idade

def main():
    nome = obter_nome()
    ano_nascimento = obter_ano_nascimento()
    idade = calcular_idade(ano_nascimento)
    print(f"{nome}, você completou ou completará {idade} anos em 2022.")

# Executa o programa
main()
